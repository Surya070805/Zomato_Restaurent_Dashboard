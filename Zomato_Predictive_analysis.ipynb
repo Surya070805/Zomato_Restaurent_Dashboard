{
 "cells": [
  {
   "cell_type": "code",
   "execution_count": 0,
   "metadata": {
    "application/vnd.databricks.v1+cell": {
     "cellMetadata": {
      "byteLimit": 2048000,
      "rowLimit": 10000
     },
     "inputWidgets": {},
     "nuid": "e6c2df85-f0e0-453d-9d37-8012ba4d307b",
     "showTitle": false,
     "tableResultSettingsMap": {},
     "title": ""
    }
   },
   "outputs": [
    {
     "output_type": "stream",
     "name": "stdout",
     "output_type": "stream",
     "text": [
      "+----------+----------+--------------------+--------------------+--------------------+\n|rate_clean|cost_clean|        online_order|          book_table|     listed_in(city)|\n+----------+----------+--------------------+--------------------+--------------------+\n|       4.1|      null|                 Yes|                 Yes|                null|\n|     800.0|      null|Pasta, Lunch Buff...|North Indian, Mug...|'RATED\\n  The pla...|\n|       4.1|     800.0|                 Yes|                  No|'RATED\\n  This pl...|\n|       3.8|     800.0|                 Yes|                  No|pasta churros and...|\n|       3.7|     300.0|                  No|                  No|        ('Rated 4.0'|\n|       3.8|      null|                  No|                  No|                null|\n|     600.0|      null| Panipuri, Gol Gappe|North Indian, Raj...|                null|\n|       3.8|      null|                 Yes|                  No|                null|\n|     600.0|      null|Onion Rings, Past...|        North Indian|                null|\n|       3.6|      null|                  No|                  No|                null|\n|     800.0|      null|                null|North Indian, Sou...|                null|\n|       4.6|      null|                 Yes|                 Yes|                null|\n|     600.0|      null|Farmhouse Pizza, ...|Pizza, Cafe, Italian|I have been throu...|\n|       4.0|      null|                 Yes|                  No|                null|\n|     700.0|      null|Pizza, Mocktails,...|Cafe, Italian, Co...|        ('Rated 4.0'|\n|       4.2|      null|                 Yes|                  No|                null|\n|     550.0|      null|Waffles, Pasta, C...|Cafe, Mexican, It...|'RATED\\n  Being i...|\n|       4.1|      null|                 Yes|                  No|                null|\n|     500.0|      null|Waffles, Pasta, C...|                Cafe|               Cafes|\n|       4.2|     600.0|                 Yes|                 Yes|\"\"RATED\\n  While ...|\n+----------+----------+--------------------+--------------------+--------------------+\nonly showing top 20 rows\n\n"
     ]
    }
   ],
   "source": [
    "# Load cleaned CSV directly from DBFS\n",
    "df = spark.read.csv(\"dbfs:/FileStore/cleaned_zomato1.csv\", header=True, inferSchema=True)\n",
    "df.show()\n"
   ]
  },
  {
   "cell_type": "code",
   "execution_count": 0,
   "metadata": {
    "application/vnd.databricks.v1+cell": {
     "cellMetadata": {
      "byteLimit": 2048000,
      "rowLimit": 10000
     },
     "inputWidgets": {},
     "nuid": "8d4071a0-eafa-49d0-a4d9-fdc2313277c9",
     "showTitle": false,
     "tableResultSettingsMap": {},
     "title": ""
    }
   },
   "outputs": [],
   "source": [
    "df=df.na.drop()"
   ]
  },
  {
   "cell_type": "code",
   "execution_count": 0,
   "metadata": {
    "application/vnd.databricks.v1+cell": {
     "cellMetadata": {
      "byteLimit": 2048000,
      "rowLimit": 10000
     },
     "inputWidgets": {},
     "nuid": "c5c0b021-985a-4aed-a564-c2efa17bfa67",
     "showTitle": false,
     "tableResultSettingsMap": {},
     "title": ""
    }
   },
   "outputs": [
    {
     "output_type": "stream",
     "name": "stdout",
     "output_type": "stream",
     "text": [
      "+----------+----------+------------+----------+--------------------+\n|rate_clean|cost_clean|online_order|book_table|     listed_in(city)|\n+----------+----------+------------+----------+--------------------+\n|       4.1|     800.0|         Yes|        No|'RATED\\n  This pl...|\n|       3.8|     800.0|         Yes|        No|pasta churros and...|\n|       3.7|     300.0|          No|        No|        ('Rated 4.0'|\n|       4.2|     600.0|         Yes|       Yes|\"\"RATED\\n  While ...|\n|       4.2|     500.0|         Yes|       Yes|\"\"RATED\\n  The Co...|\n|       4.0|     450.0|          No|        No|\"\"RATED\\n  Loved ...|\n|       3.8|     800.0|         Yes|        No|pasta churros and...|\n|       3.9|     300.0|          No|        No|                  []|\n|       3.1|     400.0|         Yes|        No|        Banashankari|\n|       3.7|     500.0|         Yes|        No|               Cafes|\n|       3.6|     900.0|          No|        No|        ('Rated 3.0'|\n|       3.7|     300.0|          No|        No|        ('Rated 5.0'|\n|       3.2|     600.0|          No|        No|\"\"RATED\\n  I had ...|\n|       3.8|     200.0|         Yes|        No|        ('Rated 5.0'|\n|       3.3|     500.0|          No|        No|        Banashankari|\n|       3.3|     550.0|          No|        No|        ('Rated 5.0'|\n|       4.0|     600.0|         Yes|        No|not Ice creams!!!...|\n|       2.8|     500.0|         Yes|        No|\"\"RATED\\n  I'm ve...|\n|       3.9|     500.0|         Yes|        No|        Banashankari|\n|       3.9|     750.0|         Yes|        No|very well done.\\n...|\n+----------+----------+------------+----------+--------------------+\nonly showing top 20 rows\n\n"
     ]
    }
   ],
   "source": [
    "df.show()"
   ]
  },
  {
   "cell_type": "code",
   "execution_count": 0,
   "metadata": {
    "application/vnd.databricks.v1+cell": {
     "cellMetadata": {
      "byteLimit": 2048000,
      "rowLimit": 10000
     },
     "inputWidgets": {},
     "nuid": "9a158a1c-09a3-46e7-acf4-096e1e446c02",
     "showTitle": false,
     "tableResultSettingsMap": {},
     "title": ""
    }
   },
   "outputs": [
    {
     "output_type": "stream",
     "name": "stdout",
     "output_type": "stream",
     "text": [
      "root\n |-- rate_clean: double (nullable = true)\n |-- cost_clean: double (nullable = true)\n |-- online_order: string (nullable = true)\n |-- book_table: string (nullable = true)\n |-- listed_in(city): string (nullable = true)\n\n"
     ]
    }
   ],
   "source": [
    "df.printSchema()\n"
   ]
  },
  {
   "cell_type": "code",
   "execution_count": 0,
   "metadata": {
    "application/vnd.databricks.v1+cell": {
     "cellMetadata": {
      "byteLimit": 2048000,
      "rowLimit": 10000
     },
     "inputWidgets": {},
     "nuid": "d121de0a-13bf-4db0-9c4a-37a485e14efd",
     "showTitle": false,
     "tableResultSettingsMap": {},
     "title": ""
    }
   },
   "outputs": [],
   "source": [
    "from pyspark.sql.functions import when,col\n",
    "#Turn rate_clean into binary class: good (1) or not (0)\n",
    "df = df.withColumn(\"target\", when(col(\"rate_clean\") >= 4.0, 1).otherwise(0))"
   ]
  },
  {
   "cell_type": "code",
   "execution_count": 0,
   "metadata": {
    "application/vnd.databricks.v1+cell": {
     "cellMetadata": {
      "byteLimit": 2048000,
      "rowLimit": 10000
     },
     "inputWidgets": {},
     "nuid": "ce74f3f9-43ba-4fac-8a69-e9aeede8ca05",
     "showTitle": false,
     "tableResultSettingsMap": {},
     "title": ""
    }
   },
   "outputs": [],
   "source": [
    "# Original DataFrame before StringIndexer\n",
    "train_df, test_df = df.randomSplit([0.7, 0.3], seed=42)\n"
   ]
  },
  {
   "cell_type": "code",
   "execution_count": 0,
   "metadata": {
    "application/vnd.databricks.v1+cell": {
     "cellMetadata": {
      "byteLimit": 2048000,
      "rowLimit": 10000
     },
     "inputWidgets": {},
     "nuid": "45036b2c-5928-47e6-ab42-3f46e642ec32",
     "showTitle": false,
     "tableResultSettingsMap": {},
     "title": ""
    }
   },
   "outputs": [],
   "source": [
    "from pyspark.ml.feature import StringIndexer, VectorAssembler\n",
    "\n",
    "# Example for online_order\n",
    "indexer = StringIndexer(inputCol=\"online_order\", outputCol=\"online_order_index\", handleInvalid=\"keep\")\n",
    "indexer_model = indexer.fit(train_df)\n",
    "train_df = indexer_model.transform(train_df)\n",
    "test_df = indexer_model.transform(test_df)\n",
    "\n",
    "# Index 'book_table'\n",
    "indexer_book = StringIndexer(inputCol=\"book_table\", outputCol=\"book_table_index\", handleInvalid=\"keep\")\n",
    "indexer_book_model = indexer_book.fit(train_df)\n",
    "train_df = indexer_book_model.transform(train_df)\n",
    "test_df = indexer_book_model.transform(test_df)\n",
    "\n",
    "# Index 'listed_in(city)'\n",
    "indexer_city = StringIndexer(inputCol=\"listed_in(city)\", outputCol=\"city_index\", handleInvalid=\"keep\")\n",
    "indexer_city_model = indexer_city.fit(train_df)\n",
    "train_df = indexer_city_model.transform(train_df)\n",
    "test_df = indexer_city_model.transform(test_df)\n",
    "\n",
    "# Assemble features\n",
    "assembler = VectorAssembler(\n",
    "    inputCols=[\"cost_clean\", \"online_order_index\", \"book_table_index\", \"city_index\"],\n",
    "    outputCol=\"features\"\n",
    ")\n",
    "train_df = assembler.transform(train_df)\n",
    "test_df = assembler.transform(test_df)\n"
   ]
  },
  {
   "cell_type": "code",
   "execution_count": 0,
   "metadata": {
    "application/vnd.databricks.v1+cell": {
     "cellMetadata": {
      "byteLimit": 2048000,
      "rowLimit": 10000
     },
     "inputWidgets": {},
     "nuid": "d53c9c4d-a6c8-48ad-b354-aec119bb0e75",
     "showTitle": false,
     "tableResultSettingsMap": {},
     "title": ""
    }
   },
   "outputs": [
    {
     "output_type": "stream",
     "name": "stdout",
     "output_type": "stream",
     "text": [
      "root\n |-- rate_clean: double (nullable = true)\n |-- cost_clean: double (nullable = true)\n |-- online_order: string (nullable = true)\n |-- book_table: string (nullable = true)\n |-- listed_in(city): string (nullable = true)\n |-- target: integer (nullable = false)\n\n"
     ]
    }
   ],
   "source": [
    "df.printSchema()"
   ]
  },
  {
   "cell_type": "code",
   "execution_count": 0,
   "metadata": {
    "application/vnd.databricks.v1+cell": {
     "cellMetadata": {
      "byteLimit": 2048000,
      "rowLimit": 10000
     },
     "inputWidgets": {},
     "nuid": "b3a020af-5b31-4610-a442-e07814a78715",
     "showTitle": false,
     "tableResultSettingsMap": {},
     "title": ""
    }
   },
   "outputs": [],
   "source": [
    "train_df = train_df.na.drop()\n",
    "test_df = test_df.na.drop()\n"
   ]
  },
  {
   "cell_type": "code",
   "execution_count": 0,
   "metadata": {
    "application/vnd.databricks.v1+cell": {
     "cellMetadata": {
      "byteLimit": 2048000,
      "rowLimit": 10000
     },
     "inputWidgets": {},
     "nuid": "73e1d99e-46e2-4525-b709-961f87e6806c",
     "showTitle": false,
     "tableResultSettingsMap": {},
     "title": ""
    }
   },
   "outputs": [],
   "source": [
    "from pyspark.ml.classification import LogisticRegression\n",
    "\n",
    "lr = LogisticRegression(featuresCol=\"features\", labelCol=\"target\")\n",
    "model = lr.fit(train_df)\n",
    "predictions = model.transform(test_df)\n"
   ]
  },
  {
   "cell_type": "code",
   "execution_count": 0,
   "metadata": {
    "application/vnd.databricks.v1+cell": {
     "cellMetadata": {
      "byteLimit": 2048000,
      "rowLimit": 10000
     },
     "inputWidgets": {},
     "nuid": "4878d00f-0199-4338-9ae4-e826fa79deee",
     "showTitle": false,
     "tableResultSettingsMap": {},
     "title": ""
    }
   },
   "outputs": [
    {
     "output_type": "stream",
     "name": "stdout",
     "output_type": "stream",
     "text": [
      "Model Accuracy: 0.775281393947345\n"
     ]
    }
   ],
   "source": [
    "from pyspark.ml.evaluation import BinaryClassificationEvaluator\n",
    "# Evaluate Model\n",
    "evaluator = BinaryClassificationEvaluator(rawPredictionCol=\"rawPrediction\", labelCol=\"target\")\n",
    "accuracy = evaluator.evaluate(predictions)\n",
    "\n",
    "print(\"Model Accuracy:\", accuracy)\n"
   ]
  },
  {
   "cell_type": "code",
   "execution_count": 0,
   "metadata": {
    "application/vnd.databricks.v1+cell": {
     "cellMetadata": {
      "byteLimit": 2048000,
      "rowLimit": 10000
     },
     "inputWidgets": {},
     "nuid": "bf419921-f6fd-4820-a661-315d244b43c4",
     "showTitle": false,
     "tableResultSettingsMap": {},
     "title": ""
    }
   },
   "outputs": [],
   "source": [
    "df.write.csv(\"dbfs:/FileStore/cleaned_zomato2.csv\", header=True)"
   ]
  },
  {
   "cell_type": "code",
   "execution_count": 0,
   "metadata": {
    "application/vnd.databricks.v1+cell": {
     "cellMetadata": {
      "byteLimit": 2048000,
      "rowLimit": 10000
     },
     "inputWidgets": {},
     "nuid": "8d3063fa-7d6c-498a-a63d-cf52e7d88d47",
     "showTitle": false,
     "tableResultSettingsMap": {},
     "title": ""
    }
   },
   "outputs": [
    {
     "output_type": "display_data",
     "data": {
      "text/html": [
       "<style scoped>\n",
       "  .table-result-container {\n",
       "    max-height: 300px;\n",
       "    overflow: auto;\n",
       "  }\n",
       "  table, th, td {\n",
       "    border: 1px solid black;\n",
       "    border-collapse: collapse;\n",
       "  }\n",
       "  th, td {\n",
       "    padding: 5px;\n",
       "  }\n",
       "  th {\n",
       "    text-align: left;\n",
       "  }\n",
       "</style><div class='table-result-container'><table class='table-result'><thead style='background-color: white'><tr><th>path</th><th>name</th><th>size</th><th>modificationTime</th></tr></thead><tbody><tr><td>dbfs:/FileStore/cleaned_zomato2.csv/_SUCCESS</td><td>_SUCCESS</td><td>0</td><td>1749024140000</td></tr><tr><td>dbfs:/FileStore/cleaned_zomato2.csv/_committed_7292268192929872355</td><td>_committed_7292268192929872355</td><td>736</td><td>1749024140000</td></tr><tr><td>dbfs:/FileStore/cleaned_zomato2.csv/_started_7292268192929872355</td><td>_started_7292268192929872355</td><td>0</td><td>1749024138000</td></tr><tr><td>dbfs:/FileStore/cleaned_zomato2.csv/part-00000-tid-7292268192929872355-6d536bc0-60ae-4980-96be-71031b4e4991-556-1-c000.csv</td><td>part-00000-tid-7292268192929872355-6d536bc0-60ae-4980-96be-71031b4e4991-556-1-c000.csv</td><td>412189</td><td>1749024140000</td></tr><tr><td>dbfs:/FileStore/cleaned_zomato2.csv/part-00001-tid-7292268192929872355-6d536bc0-60ae-4980-96be-71031b4e4991-557-1-c000.csv</td><td>part-00001-tid-7292268192929872355-6d536bc0-60ae-4980-96be-71031b4e4991-557-1-c000.csv</td><td>341993</td><td>1749024140000</td></tr><tr><td>dbfs:/FileStore/cleaned_zomato2.csv/part-00002-tid-7292268192929872355-6d536bc0-60ae-4980-96be-71031b4e4991-558-1-c000.csv</td><td>part-00002-tid-7292268192929872355-6d536bc0-60ae-4980-96be-71031b4e4991-558-1-c000.csv</td><td>337465</td><td>1749024139000</td></tr><tr><td>dbfs:/FileStore/cleaned_zomato2.csv/part-00003-tid-7292268192929872355-6d536bc0-60ae-4980-96be-71031b4e4991-559-1-c000.csv</td><td>part-00003-tid-7292268192929872355-6d536bc0-60ae-4980-96be-71031b4e4991-559-1-c000.csv</td><td>298642</td><td>1749024140000</td></tr><tr><td>dbfs:/FileStore/cleaned_zomato2.csv/part-00004-tid-7292268192929872355-6d536bc0-60ae-4980-96be-71031b4e4991-560-1-c000.csv</td><td>part-00004-tid-7292268192929872355-6d536bc0-60ae-4980-96be-71031b4e4991-560-1-c000.csv</td><td>328064</td><td>1749024140000</td></tr><tr><td>dbfs:/FileStore/cleaned_zomato2.csv/part-00005-tid-7292268192929872355-6d536bc0-60ae-4980-96be-71031b4e4991-561-1-c000.csv</td><td>part-00005-tid-7292268192929872355-6d536bc0-60ae-4980-96be-71031b4e4991-561-1-c000.csv</td><td>305897</td><td>1749024140000</td></tr><tr><td>dbfs:/FileStore/cleaned_zomato2.csv/part-00006-tid-7292268192929872355-6d536bc0-60ae-4980-96be-71031b4e4991-562-1-c000.csv</td><td>part-00006-tid-7292268192929872355-6d536bc0-60ae-4980-96be-71031b4e4991-562-1-c000.csv</td><td>253347</td><td>1749024140000</td></tr><tr><td>dbfs:/FileStore/cleaned_zomato2.csv/part-00007-tid-7292268192929872355-6d536bc0-60ae-4980-96be-71031b4e4991-563-1-c000.csv</td><td>part-00007-tid-7292268192929872355-6d536bc0-60ae-4980-96be-71031b4e4991-563-1-c000.csv</td><td>205831</td><td>1749024139000</td></tr></tbody></table></div>"
      ]
     },
     "metadata": {
      "application/vnd.databricks.v1+output": {
       "addedWidgets": {},
       "aggData": [],
       "aggError": "",
       "aggOverflow": false,
       "aggSchema": [],
       "aggSeriesLimitReached": false,
       "aggType": "",
       "arguments": {},
       "columnCustomDisplayInfos": {},
       "data": [
        [
         "dbfs:/FileStore/cleaned_zomato2.csv/_SUCCESS",
         "_SUCCESS",
         0,
         1749024140000
        ],
        [
         "dbfs:/FileStore/cleaned_zomato2.csv/_committed_7292268192929872355",
         "_committed_7292268192929872355",
         736,
         1749024140000
        ],
        [
         "dbfs:/FileStore/cleaned_zomato2.csv/_started_7292268192929872355",
         "_started_7292268192929872355",
         0,
         1749024138000
        ],
        [
         "dbfs:/FileStore/cleaned_zomato2.csv/part-00000-tid-7292268192929872355-6d536bc0-60ae-4980-96be-71031b4e4991-556-1-c000.csv",
         "part-00000-tid-7292268192929872355-6d536bc0-60ae-4980-96be-71031b4e4991-556-1-c000.csv",
         412189,
         1749024140000
        ],
        [
         "dbfs:/FileStore/cleaned_zomato2.csv/part-00001-tid-7292268192929872355-6d536bc0-60ae-4980-96be-71031b4e4991-557-1-c000.csv",
         "part-00001-tid-7292268192929872355-6d536bc0-60ae-4980-96be-71031b4e4991-557-1-c000.csv",
         341993,
         1749024140000
        ],
        [
         "dbfs:/FileStore/cleaned_zomato2.csv/part-00002-tid-7292268192929872355-6d536bc0-60ae-4980-96be-71031b4e4991-558-1-c000.csv",
         "part-00002-tid-7292268192929872355-6d536bc0-60ae-4980-96be-71031b4e4991-558-1-c000.csv",
         337465,
         1749024139000
        ],
        [
         "dbfs:/FileStore/cleaned_zomato2.csv/part-00003-tid-7292268192929872355-6d536bc0-60ae-4980-96be-71031b4e4991-559-1-c000.csv",
         "part-00003-tid-7292268192929872355-6d536bc0-60ae-4980-96be-71031b4e4991-559-1-c000.csv",
         298642,
         1749024140000
        ],
        [
         "dbfs:/FileStore/cleaned_zomato2.csv/part-00004-tid-7292268192929872355-6d536bc0-60ae-4980-96be-71031b4e4991-560-1-c000.csv",
         "part-00004-tid-7292268192929872355-6d536bc0-60ae-4980-96be-71031b4e4991-560-1-c000.csv",
         328064,
         1749024140000
        ],
        [
         "dbfs:/FileStore/cleaned_zomato2.csv/part-00005-tid-7292268192929872355-6d536bc0-60ae-4980-96be-71031b4e4991-561-1-c000.csv",
         "part-00005-tid-7292268192929872355-6d536bc0-60ae-4980-96be-71031b4e4991-561-1-c000.csv",
         305897,
         1749024140000
        ],
        [
         "dbfs:/FileStore/cleaned_zomato2.csv/part-00006-tid-7292268192929872355-6d536bc0-60ae-4980-96be-71031b4e4991-562-1-c000.csv",
         "part-00006-tid-7292268192929872355-6d536bc0-60ae-4980-96be-71031b4e4991-562-1-c000.csv",
         253347,
         1749024140000
        ],
        [
         "dbfs:/FileStore/cleaned_zomato2.csv/part-00007-tid-7292268192929872355-6d536bc0-60ae-4980-96be-71031b4e4991-563-1-c000.csv",
         "part-00007-tid-7292268192929872355-6d536bc0-60ae-4980-96be-71031b4e4991-563-1-c000.csv",
         205831,
         1749024139000
        ]
       ],
       "datasetInfos": [],
       "dbfsResultPath": null,
       "isJsonSchema": true,
       "metadata": {},
       "overflow": false,
       "plotOptions": {
        "customPlotOptions": {},
        "displayType": "table",
        "pivotAggregation": null,
        "pivotColumns": null,
        "xColumns": null,
        "yColumns": null
       },
       "removedWidgets": [],
       "schema": [
        {
         "metadata": "{}",
         "name": "path",
         "type": "\"string\""
        },
        {
         "metadata": "{}",
         "name": "name",
         "type": "\"string\""
        },
        {
         "metadata": "{}",
         "name": "size",
         "type": "\"long\""
        },
        {
         "metadata": "{}",
         "name": "modificationTime",
         "type": "\"long\""
        }
       ],
       "type": "table"
      }
     },
     "output_type": "display_data"
    }
   ],
   "source": [
    "display(dbutils.fs.ls(\"dbfs:/FileStore/cleaned_zomato2.csv\"))\n"
   ]
  },
  {
   "cell_type": "code",
   "execution_count": 0,
   "metadata": {
    "application/vnd.databricks.v1+cell": {
     "cellMetadata": {},
     "inputWidgets": {},
     "nuid": "c9897762-08e2-4db7-bdb2-ff98aff8fcf0",
     "showTitle": false,
     "tableResultSettingsMap": {},
     "title": ""
    }
   },
   "outputs": [],
   "source": []
  },
  {
   "cell_type": "code",
   "execution_count": 0,
   "metadata": {
    "application/vnd.databricks.v1+cell": {
     "cellMetadata": {},
     "inputWidgets": {},
     "nuid": "3e40d209-7976-4edf-9295-796d8d9c19b9",
     "showTitle": false,
     "tableResultSettingsMap": {},
     "title": ""
    }
   },
   "outputs": [],
   "source": []
  },
  {
   "cell_type": "code",
   "execution_count": 0,
   "metadata": {
    "application/vnd.databricks.v1+cell": {
     "cellMetadata": {},
     "inputWidgets": {},
     "nuid": "7606d7c8-2a04-4cb8-891f-14836e6bf5a4",
     "showTitle": false,
     "tableResultSettingsMap": {},
     "title": ""
    }
   },
   "outputs": [],
   "source": []
  },
  {
   "cell_type": "code",
   "execution_count": 0,
   "metadata": {
    "application/vnd.databricks.v1+cell": {
     "cellMetadata": {},
     "inputWidgets": {},
     "nuid": "281cc610-05c8-48d9-b1bc-f1ec527fb926",
     "showTitle": false,
     "tableResultSettingsMap": {},
     "title": ""
    }
   },
   "outputs": [],
   "source": []
  }
 ],
 "metadata": {
  "application/vnd.databricks.v1+notebook": {
   "computePreferences": null,
   "dashboards": [],
   "environmentMetadata": {
    "base_environment": "",
    "environment_version": "1"
   },
   "inputWidgetPreferences": null,
   "language": "python",
   "notebookMetadata": {
    "pythonIndentUnit": 4
   },
   "notebookName": "Zomato_Predictive_analysis",
   "widgets": {}
  }
 },
 "nbformat": 4,
 "nbformat_minor": 0
}